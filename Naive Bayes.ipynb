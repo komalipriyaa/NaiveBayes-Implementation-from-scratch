{
 "cells": [
  {
   "cell_type": "code",
   "execution_count": 22,
   "metadata": {},
   "outputs": [],
   "source": [
    "import pandas as pd\n",
    "import math"
   ]
  },
  {
   "cell_type": "code",
   "execution_count": 39,
   "metadata": {},
   "outputs": [],
   "source": [
    "def getdataset(filename):\n",
    "    dataframe = pd.read_csv(filename)\n",
    "    \n",
    "    num = {\" US.\":0, \" Europe.\":1, \" Japan.\": 2}\n",
    "    dataframe = dataframe.replace(num)\n",
    "    \n",
    "    dataset = []\n",
    "    for index, transaction in dataframe.iterrows():\n",
    "        row = []\n",
    "        for item in transaction:\n",
    "            item = int(item)\n",
    "            row.append(item)\n",
    "        dataset.append(row)\n",
    "            \n",
    "    return dataset"
   ]
  },
  {
   "cell_type": "code",
   "execution_count": 40,
   "metadata": {},
   "outputs": [],
   "source": [
    "def testTrainSplit(dataset, ratio):\n",
    "    split = int(ratio*len(dataset))\n",
    "    \n",
    "    train = dataset[:split]\n",
    "    test = dataset[split:]\n",
    "    \n",
    "    return train, test"
   ]
  },
  {
   "cell_type": "code",
   "execution_count": 41,
   "metadata": {},
   "outputs": [],
   "source": [
    "def getmeanSD(item):\n",
    "    mean = sum(item)/float(len(item))\n",
    "    variance = 0\n",
    "    \n",
    "    for x in item:\n",
    "        variance = variance + (x-mean)**2\n",
    "    variance = variance/(len(item)-1)\n",
    "\n",
    "    return mean, math.sqrt(variance)"
   ]
  },
  {
   "cell_type": "code",
   "execution_count": 51,
   "metadata": {},
   "outputs": [],
   "source": [
    "def getSummary(dataset):\n",
    "    \n",
    "    diction = {}\n",
    "    for row in dataset:\n",
    "        if row[-1] not in diction:\n",
    "            diction[row[-1]] = []\n",
    "        diction[row[-1]].append(row)\n",
    "        \n",
    "    summary = {}\n",
    "    for key in diction:\n",
    "        summary[key] = []\n",
    "        for item in tuple(zip(*(diction[key]))):\n",
    "            mean, sd = getmeanSD(item)\n",
    "            summary[key].append((mean, sd))\n",
    "        del(summary[key][-1])\n",
    "    return summary"
   ]
  },
  {
   "cell_type": "code",
   "execution_count": 66,
   "metadata": {},
   "outputs": [],
   "source": [
    "def calcProb(x, mean, sd):\n",
    "    e = math.exp( -((x-mean)**2))/(2*(sd**2) )\n",
    "    prob = (1/(math.sqrt(2*math.pi)*sd))* e\n",
    "    return prob"
   ]
  },
  {
   "cell_type": "code",
   "execution_count": 70,
   "metadata": {},
   "outputs": [],
   "source": [
    "def classify(data, row):\n",
    "    \n",
    "    probabilities = {}\n",
    "    for key in data:\n",
    "        probabilities[key] = 1\n",
    "        i = 0\n",
    "        for item in data[key]:\n",
    "            probabilities[key] *= calcProb(row[i], item[0], item[1])\n",
    "            i += 1\n",
    "    highestprob = 0\n",
    "    label = 0\n",
    "    for key in probabilities:\n",
    "        if probabilities[key] > highestprob:\n",
    "            highestprob = probabilities[key]\n",
    "            label = key\n",
    "    return label"
   ]
  },
  {
   "cell_type": "code",
   "execution_count": 71,
   "metadata": {},
   "outputs": [],
   "source": [
    "def getPredict(data, test):\n",
    "    prediction = []\n",
    "    \n",
    "    for row in test:\n",
    "        classLabel = classify(data, row)\n",
    "        prediction.append(classLabel)\n",
    "    \n",
    "    accuracy = 0   \n",
    "    for row in test:\n",
    "        if row[-1] == classLabel:\n",
    "            accuracy += 1\n",
    "    return(accuracy/len(test))"
   ]
  },
  {
   "cell_type": "code",
   "execution_count": 73,
   "metadata": {},
   "outputs": [
    {
     "name": "stdout",
     "output_type": "stream",
     "text": [
      "{0: [(19.484375, 6.136228258799903), (6.453125, 1.6307062138550623), (257.9453125, 102.86435595426545), (122.3359375, 41.8356885931026), (3435.171875, 779.8370626240625), (14.9140625, 2.918923714249192), (1976.453125, 3.645425080254432)], 1: [(27.025641025641026, 6.045821434272988), (4.102564102564102, 0.38353424295565597), (107.05128205128206, 21.596720898697757), (78.64102564102564, 19.739737079632278), (2391.3076923076924, 456.24480696950366), (16.82051282051282, 3.2107696640147867), (1976.128205128205, 2.903532215291604)], 2: [(29.853658536585368, 6.142316239049223), (4.097560975609756, 0.583304296606003), (103.85365853658537, 23.466530395021927), (79.65853658536585, 18.548058868918815), (2235.170731707317, 322.2622303682999), (16.463414634146343, 1.8041280577554601), (1978.1951219512196, 3.551193547211428)]}\n",
      "0.6415094339622641\n"
     ]
    }
   ],
   "source": [
    "filename = \"cars.csv\"\n",
    "ds = getdataset(filename)\n",
    "train, test = testTrainSplit(ds, 0.8)\n",
    "dataSummarized = getSummary(train) \n",
    "print(dataSummarized)\n",
    "testResult = getPredict(dataSummarized, test)\n",
    "print(testResult)"
   ]
  },
  {
   "cell_type": "code",
   "execution_count": null,
   "metadata": {},
   "outputs": [],
   "source": []
  },
  {
   "cell_type": "code",
   "execution_count": null,
   "metadata": {},
   "outputs": [],
   "source": []
  }
 ],
 "metadata": {
  "kernelspec": {
   "display_name": "Python 3",
   "language": "python",
   "name": "python3"
  },
  "language_info": {
   "codemirror_mode": {
    "name": "ipython",
    "version": 3
   },
   "file_extension": ".py",
   "mimetype": "text/x-python",
   "name": "python",
   "nbconvert_exporter": "python",
   "pygments_lexer": "ipython3",
   "version": "3.7.4"
  }
 },
 "nbformat": 4,
 "nbformat_minor": 2
}
